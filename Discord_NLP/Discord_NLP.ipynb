{
 "cells": [
  {
   "cell_type": "code",
   "execution_count": 32,
   "id": "781d6337",
   "metadata": {},
   "outputs": [],
   "source": [
    "import random\n",
    "import sys\n",
    "\n",
    "import numpy as np\n",
    "import pandas as pd\n",
    "import matplotlib.pyplot as plit\n",
    "import cv2\n",
    "import seaborn\n",
    "import tensorflow\n",
    "import transformers\n",
    "import discord\n",
    "import asyncio\n",
    "\n",
    "from keras.models import Sequential\n",
    "from keras.layers import Dense,Activation,Dropout\n",
    "from keras.layers import LSTM,TimeDistributed,SimpleRNN\n",
    "from keras.utils.data_utils import get_file"
   ]
  },
  {
   "cell_type": "code",
   "execution_count": 33,
   "id": "68aec57a",
   "metadata": {},
   "outputs": [
    {
     "data": {
      "text/plain": [
       "'utf-8'"
      ]
     },
     "execution_count": 33,
     "metadata": {},
     "output_type": "execute_result"
    }
   ],
   "source": [
    "#デフォだと確実にunicodeエラーに引っかかるので事前にエンコードを確認\n",
    "sys.getdefaultencoding()"
   ]
  },
  {
   "cell_type": "code",
   "execution_count": 48,
   "id": "517c331f",
   "metadata": {},
   "outputs": [],
   "source": [
    "text = open('./train/input.txt','r',encoding='utf-8')\n",
    "text = text.read()\n",
    "#print(text)\n",
    "#↑長すぎるので一旦封印"
   ]
  },
  {
   "cell_type": "code",
   "execution_count": 49,
   "id": "5c9d30ca",
   "metadata": {},
   "outputs": [
    {
     "name": "stdout",
     "output_type": "stream",
     "text": [
      "total: 1316\n"
     ]
    }
   ],
   "source": [
    "chars = sorted(list(set(text)))\n",
    "print('total:',len(chars))"
   ]
  },
  {
   "cell_type": "code",
   "execution_count": 54,
   "id": "a807123f",
   "metadata": {},
   "outputs": [],
   "source": [
    "#Keras RNNではSequentialが主流。functional APIはモデルを再利用する時のみ。　https://www.tensorflow.org/guide/keras/rnn?hl=ja\n",
    "model = Sequential()\n",
    "#return_sequencesをTrueにすると、途中式も学習データにする。デフォまたはFalseの場合は和だけを学習データに使う。効率化\n",
    "model.add(LSTM(512, input_shape=(None, len(chars)),return_sequences=True))\n",
    "model.add(LSTM(512, return_sequences=True))\n",
    "model.add(Dropout(0.2))\n",
    "#TimeDistributedは出力を一つにまとめる\n",
    "model.add(TimeDistributed(Dense(len(chars))))\n",
    "#多値分類なのでsoftmax\n",
    "model.add(Activation('softmax'))\n",
    "\n",
    "model.compile(loss='categorical_crossentoropy', optimizer='rmsprop')"
   ]
  },
  {
   "cell_type": "code",
   "execution_count": null,
   "id": "eb1cb12b",
   "metadata": {},
   "outputs": [],
   "source": []
  }
 ],
 "metadata": {
  "kernelspec": {
   "display_name": "Python 3 (ipykernel)",
   "language": "python",
   "name": "python3"
  },
  "language_info": {
   "codemirror_mode": {
    "name": "ipython",
    "version": 3
   },
   "file_extension": ".py",
   "mimetype": "text/x-python",
   "name": "python",
   "nbconvert_exporter": "python",
   "pygments_lexer": "ipython3",
   "version": "3.9.7"
  }
 },
 "nbformat": 4,
 "nbformat_minor": 5
}
